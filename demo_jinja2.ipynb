{
 "cells": [
  {
   "cell_type": "code",
   "execution_count": null,
   "metadata": {},
   "outputs": [],
   "source": [
    "from jinja2 import Environment, FileSystemLoader\n",
    "\n",
    "# Load the template environment\n",
    "env = Environment(loader=FileSystemLoader('templates'))\n",
    "\n",
    "# Select the HTML template\n",
    "template = env.get_template('example_template.html')\n",
    "\n",
    "# Define parameters to pass to the template\n",
    "data = {\n",
    "    'title': 'Welcome to Jinja2',\n",
    "    'username': 'John Doe',\n",
    "    'items': ['Apples', 'Oranges', 'Bananas'],\n",
    "}\n",
    "\n",
    "# Render the template with the data\n",
    "output = template.render(data)\n",
    "\n",
    "# Print or save the output\n",
    "print(output)\n",
    "\n",
    "with open('output.html', 'w') as fh:\n",
    "    fh.write(output)\n",
    "\n",
    "    \n"
   ]
  }
 ],
 "metadata": {
  "kernelspec": {
   "display_name": ".venv",
   "language": "python",
   "name": "python3"
  },
  "language_info": {
   "codemirror_mode": {
    "name": "ipython",
    "version": 3
   },
   "file_extension": ".py",
   "mimetype": "text/x-python",
   "name": "python",
   "nbconvert_exporter": "python",
   "pygments_lexer": "ipython3",
   "version": "3.12.6"
  }
 },
 "nbformat": 4,
 "nbformat_minor": 2
}
